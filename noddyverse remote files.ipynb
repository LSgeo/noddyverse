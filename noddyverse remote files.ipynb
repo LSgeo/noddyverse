{
 "cells": [
  {
   "cell_type": "markdown",
   "metadata": {},
   "source": [
    "## Tool to select random <a href=\"http://tectonique.net/noddy\">Noddy</a> models from files\n",
    "<br>First load libraries"
   ]
  },
  {
   "cell_type": "code",
   "execution_count": null,
   "metadata": {
    "ExecuteTime": {
     "end_time": "2020-03-08T22:30:32.283295Z",
     "start_time": "2020-03-08T22:30:31.631010Z"
    }
   },
   "outputs": [],
   "source": [
    "import numpy as np\n",
    "import matplotlib\n",
    "from matplotlib.pyplot import imshow\n",
    "from matplotlib import pyplot as plt\n",
    "from random import seed\n",
    "import random\n",
    "import time\n",
    "from os import listdir\n",
    "from os.path import isfile, join\n",
    "import glob\n",
    "import gzip\n",
    "from pandas import DataFrame\n",
    "from urllib.request import urlopen\n",
    "\n",
    "%matplotlib inline\n",
    "#matplotlib.rcParams['figure.dpi']= 150"
   ]
  },
  {
   "cell_type": "code",
   "execution_count": null,
   "metadata": {
    "ExecuteTime": {
     "end_time": "2020-03-08T22:30:32.283295Z",
     "start_time": "2020-03-08T22:30:31.631010Z"
    }
   },
   "outputs": [],
   "source": [
    "def rand_cmap(nlabels, type='bright', first_color_black=True, last_color_black=False, verbose=True):\n",
    "    \"\"\"\n",
    "    Creates a random colormap to be used together with matplotlib. Useful for segmentation tasks\n",
    "    :param nlabels: Number of labels (size of colormap)\n",
    "    :param type: 'bright' for strong colors, 'soft' for pastel colors\n",
    "    :param first_color_black: Option to use first color as black, True or False\n",
    "    :param last_color_black: Option to use last color as black, True or False\n",
    "    :param verbose: Prints the number of labels and shows the colormap. True or False\n",
    "    :return: colormap for matplotlib\n",
    "    \n",
    "    \"\"\"\n",
    "    from matplotlib.colors import LinearSegmentedColormap\n",
    "    import colorsys\n",
    "    import numpy as np\n",
    "\n",
    "    np.random.seed(seed=0)\n",
    "    if type not in ('bright', 'soft'):\n",
    "        print ('Please choose \"bright\" or \"soft\" for type')\n",
    "        return\n",
    "\n",
    "    if verbose:\n",
    "        print('Number of labels: ' + str(nlabels))\n",
    "\n",
    "    # Generate color map for bright colors, based on hsv\n",
    "    if type == 'bright':\n",
    "        randHSVcolors = [(np.random.uniform(low=0.0, high=1),\n",
    "                          np.random.uniform(low=0.2, high=1),\n",
    "                          np.random.uniform(low=0.9, high=1)) for i in range(nlabels)]\n",
    "\n",
    "        # Convert HSV list to RGB\n",
    "        randRGBcolors = []\n",
    "        for HSVcolor in randHSVcolors:\n",
    "            randRGBcolors.append(colorsys.hsv_to_rgb(HSVcolor[0], HSVcolor[1], HSVcolor[2]))\n",
    "\n",
    "        if first_color_black:\n",
    "            randRGBcolors[0] = [0, 0, 0]\n",
    "\n",
    "        if last_color_black:\n",
    "            randRGBcolors[-1] = [0, 0, 0]\n",
    "\n",
    "        random_colormap = LinearSegmentedColormap.from_list('new_map', randRGBcolors, N=nlabels)\n",
    "\n",
    "    # Generate soft pastel colors, by limiting the RGB spectrum\n",
    "    if type == 'soft':\n",
    "        low = 0.6\n",
    "        high = 0.95\n",
    "        randRGBcolors = [(np.random.uniform(low=low, high=high),\n",
    "                          np.random.uniform(low=low, high=high),\n",
    "                          np.random.uniform(low=low, high=high)) for i in range(nlabels)]\n",
    "\n",
    "        if first_color_black:\n",
    "            randRGBcolors[0] = [0, 0, 0]\n",
    "\n",
    "        if last_color_black:\n",
    "            randRGBcolors[-1] = [0, 0, 0]\n",
    "        random_colormap = LinearSegmentedColormap.from_list('new_map', randRGBcolors, N=nlabels)\n",
    "\n",
    "    # Display colorbar\n",
    "    if verbose:\n",
    "        from matplotlib import colors, colorbar\n",
    "        from matplotlib import pyplot as plt\n",
    "        fig, ax = plt.subplots(1, 1, figsize=(15, 0.5))\n",
    "\n",
    "        bounds = np.linspace(0, nlabels, nlabels + 1)\n",
    "        norm = colors.BoundaryNorm(bounds, nlabels)\n",
    "\n",
    "        cb = colorbar.ColorbarBase(ax, cmap=random_colormap, norm=norm, spacing='proportional', ticks=None,\n",
    "                                   boundaries=bounds, format='%1i', orientation=u'horizontal')\n",
    "\n",
    "    return random_colormap\n",
    "cmap = rand_cmap(100, type='bright', first_color_black=False, last_color_black=False, verbose=False)"
   ]
  },
  {
   "cell_type": "code",
   "execution_count": null,
   "metadata": {},
   "outputs": [],
   "source": [
    "from urllib.request import urlopen\n",
    "url='https://cloudstor.aarnet.edu.au/plus/s/57EnCSZ4Q1e4hdi/download'  \n",
    "\n",
    "import pandas as pd\n",
    "import io\n",
    "import requests\n",
    "s=requests.get(url).content\n",
    "models=pd.read_csv(io.StringIO(s.decode('utf-8')))\n"
   ]
  },
  {
   "cell_type": "code",
   "execution_count": null,
   "metadata": {},
   "outputs": [],
   "source": [
    "display(models)"
   ]
  },
  {
   "cell_type": "code",
   "execution_count": null,
   "metadata": {
    "scrolled": false
   },
   "outputs": [],
   "source": [
    "his_filter=['TILT','FOLD','FAULT'] # FAULT SHEAR-ZONE FOLD TILT UNCONFORMITY DYKE PLUG\n",
    "\n",
    "models2=models[models['event03'].str.contains(his_filter[0]) & models['event04'].str.contains(his_filter[1]) & models['event05'].str.contains(his_filter[2])] \n",
    "models2=models2.reset_index(drop=True)\n",
    "display(models2)\n",
    "model_number2=len(models2)\n"
   ]
  },
  {
   "cell_type": "markdown",
   "metadata": {},
   "source": [
    "Now get the models and display the mag, grav and map views"
   ]
  },
  {
   "cell_type": "code",
   "execution_count": null,
   "metadata": {
    "ExecuteTime": {
     "end_time": "2020-03-08T22:48:27.954943Z",
     "start_time": "2020-03-08T22:31:28.209921Z"
    }
   },
   "outputs": [],
   "source": [
    "now = time.time()\n",
    "#seed random number generator\n",
    "seed(int(now))\n",
    "\n",
    "url='https://cloudstor.aarnet.edu.au/plus/s/3GhvhCZRAU3fXdo/download?path=%2F&files='"
   ]
  },
  {
   "cell_type": "code",
   "execution_count": null,
   "metadata": {},
   "outputs": [],
   "source": [
    "# download file, ungzip and stuff into numpy array\n",
    "def get_gz_array(url,skiprows):\n",
    "    my_gzip_stream = urlopen(url)\n",
    "    my_stream = gzip.open(my_gzip_stream, 'r')\n",
    "    return(np.loadtxt(my_stream,skiprows=skiprows))\n"
   ]
  },
  {
   "cell_type": "code",
   "execution_count": null,
   "metadata": {
    "ExecuteTime": {
     "end_time": "2020-03-08T22:48:27.954943Z",
     "start_time": "2020-03-08T22:31:28.209921Z"
    }
   },
   "outputs": [],
   "source": [
    "used=[]\n",
    "for z in range (0,1):\n",
    "    ran =random.randint(0,model_number2-1) \n",
    "    #ran=0\n",
    "    if(ran in used):\n",
    "        continue\n",
    "    else:\n",
    "        used.append(ran)\n",
    "    file_split=models2.iloc[ran]['root'].split('/')  \n",
    "    root=url+file_split[2]\n",
    "    print(ran,models2.iloc[ran]['root'],'STRATIGRAPHY TILT',models2.iloc[ran]['event_all'])\n",
    "    \n",
    "    path=root+'.mag.gz'\n",
    "    mag=get_gz_array(path,8)\n",
    "    \n",
    "    path=root+'.grv.gz'\n",
    "    grv=get_gz_array(path,skiprows=8)\n",
    "\n",
    "    path=root+'.g12.gz'\n",
    "    mod=get_gz_array(path,skiprows=0)\n",
    "\n",
    "    mod2=mod.reshape((200,200,200))\n",
    "    mod2=np.transpose(mod2,(0,2,1))\n",
    "    mod2.shape\n",
    "    vmin=np.amin(mod2)\n",
    "    vmax=np.amax(mod2)\n",
    "    show=1    \n",
    "\n",
    "    #fig.tight_layout()\n",
    "    if(show==1):\n",
    "        fig, ax = plt.subplots(1,5,figsize=(10,10))\n",
    "        ax[0].axis('off')\n",
    "        ax[1].axis('off')\n",
    "        ax[2].axis('off')\n",
    "        ax[3].axis('off')\n",
    "        ax[4].axis('off')\n",
    "        ax[0].title.set_text('Mag' )\n",
    "        ax[1].title.set_text('Grav')\n",
    "        ax[2].title.set_text('Map')\n",
    "        ax[3].title.set_text('W    (N)    E')\n",
    "        ax[4].title.set_text('N    (W)    S')\n",
    "        ax[0].imshow(mag,cmap='rainbow')\n",
    "        ax[1].imshow(grv,cmap='rainbow')\n",
    "        ax[2].imshow(mod2[0,:,:],cmap=cmap, interpolation=\"nearest\",vmin=vmin,vmax=vmax)\n",
    "        ax[3].imshow(mod2[:,0,:],cmap=cmap, interpolation=\"nearest\",vmin=vmin,vmax=vmax)\n",
    "        ax[4].imshow(mod2[:,:,0],cmap=cmap, interpolation=\"nearest\",vmin=vmin,vmax=vmax)\n",
    "        plt.show()\n",
    "    else:\n",
    "        matplotlib.image.imsave('grv/model_'+models2.iloc[ran]['root']+'_grv.png', mag,cmap='rainbow')\n",
    "        matplotlib.image.imsave('mag/model_'+models2.iloc[ran]['root']+'_mag.png', grv,cmap='rainbow')\n",
    "        matplotlib.image.imsave('map/model_'+models2.iloc[ran]['root']+'_map.png', mod2[0,:,:],cmap=cmap,vmin=vmin,vmax=vmax)\n",
    "        matplotlib.image.imsave('secWE/model_'+models2.iloc[ran]['root']+'_secWE.png', mod2[:,0,:],cmap=cmap,vmin=vmin,vmax=vmax)\n",
    "        matplotlib.image.imsave('secNS/model_'+models2.iloc[ran]['root']+'_secNS.png', mod2[:,:,0],cmap=cmap,vmin=vmin,vmax=vmax)"
   ]
  },
  {
   "cell_type": "code",
   "execution_count": null,
   "metadata": {},
   "outputs": [],
   "source": []
  }
 ],
 "metadata": {
  "hide_input": false,
  "kernelspec": {
   "display_name": "Python 3",
   "language": "python",
   "name": "python3"
  },
  "language_info": {
   "codemirror_mode": {
    "name": "ipython",
    "version": 3
   },
   "file_extension": ".py",
   "mimetype": "text/x-python",
   "name": "python",
   "nbconvert_exporter": "python",
   "pygments_lexer": "ipython3",
   "version": "3.7.9"
  }
 },
 "nbformat": 4,
 "nbformat_minor": 2
}
